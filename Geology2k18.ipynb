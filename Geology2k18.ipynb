{
  "nbformat": 4,
  "nbformat_minor": 0,
  "metadata": {
    "colab": {
      "name": "Geology2k18.ipynb",
      "version": "0.3.2",
      "provenance": [],
      "include_colab_link": true
    },
    "kernelspec": {
      "name": "python3",
      "display_name": "Python 3"
    }
  },
  "cells": [
    {
      "cell_type": "markdown",
      "metadata": {
        "id": "view-in-github",
        "colab_type": "text"
      },
      "source": [
        "<a href=\"https://colab.research.google.com/github/humeraaa/UOK.Geology/blob/master/Geology2k18.ipynb\" target=\"_parent\"><img src=\"https://colab.research.google.com/assets/colab-badge.svg\" alt=\"Open In Colab\"/></a>"
      ]
    },
    {
      "metadata": {
        "id": "JpVHwNmCQ-EI",
        "colab_type": "code",
        "colab": {
          "base_uri": "https://localhost:8080/",
          "height": 87
        },
        "outputId": "b431e348-63cb-4a7b-deb6-52b2d4beea06"
      },
      "cell_type": "code",
      "source": [
        "# Install OpticalRS. This also installs GeoPandas because GeoPandas is a dependency of OpticalRS\n",
        "!apt-get install software-properties-common python-software-properties > /dev/null\n",
        "!add-apt-repository ppa:ubuntugis/ppa -y > /dev/null\n",
        "!apt-get update > /dev/null\n",
        "!apt-get install -y --fix-missing python-gdal gdal-bin libgdal-dev > /dev/null\n",
        "!pip2 install OpticalRS > /dev/null"
      ],
      "execution_count": 6,
      "outputs": [
        {
          "output_type": "stream",
          "text": [
            "E: Package 'python-software-properties' has no installation candidate\n",
            "E: The repository 'http://ppa.launchpad.net/ubuntugis/ppa/ubuntu bionic Release' does not have a Release file.\n",
            "E: The repository 'http://ppa.launchpad.net/ubuntugis/ppa/ubuntu bionic Release' does not have a Release file.\n",
            "Extracting templates from packages: 100%\n"
          ],
          "name": "stdout"
        }
      ]
    },
    {
      "metadata": {
        "id": "zlvbWQwGRXC-",
        "colab_type": "code",
        "colab": {
          "resources": {
            "http://localhost:8080/nbextensions/google.colab/files.js": {
              "data": "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",
              "ok": true,
              "headers": [
                [
                  "content-type",
                  "application/javascript"
                ]
              ],
              "status": 200,
              "status_text": ""
            }
          },
          "base_uri": "https://localhost:8080/",
          "height": 73
        },
        "outputId": "1f2319cc-4bff-4e69-ecbe-f4855e35417e"
      },
      "cell_type": "code",
      "source": [
        "# Loading my local files into Colaboratory\n",
        "from google.colab import files\n",
        "uploaded = files.upload()"
      ],
      "execution_count": 38,
      "outputs": [
        {
          "output_type": "display_data",
          "data": {
            "text/html": [
              "\n",
              "     <input type=\"file\" id=\"files-284c5ad6-60d6-4808-bd97-064855928234\" name=\"files[]\" multiple disabled />\n",
              "     <output id=\"result-284c5ad6-60d6-4808-bd97-064855928234\">\n",
              "      Upload widget is only available when the cell has been executed in the\n",
              "      current browser session. Please rerun this cell to enable.\n",
              "      </output>\n",
              "      <script src=\"/nbextensions/google.colab/files.js\"></script> "
            ],
            "text/plain": [
              "<IPython.core.display.HTML object>"
            ]
          },
          "metadata": {
            "tags": []
          }
        },
        {
          "output_type": "stream",
          "text": [
            "Saving Intro_python_geo-master.zip to Intro_python_geo-master.zip\n"
          ],
          "name": "stdout"
        }
      ]
    },
    {
      "metadata": {
        "id": "u9yNUUafRg6p",
        "colab_type": "code",
        "colab": {
          "base_uri": "https://localhost:8080/",
          "height": 34
        },
        "outputId": "342fa81c-0d1a-4e4c-aeac-9e0e2b7cceda"
      },
      "cell_type": "code",
      "source": [
        "ls"
      ],
      "execution_count": 39,
      "outputs": [
        {
          "output_type": "stream",
          "text": [
            "Intro_python_geo-master.zip  shapefiles.zip  WDPA_polygons.shp\n"
          ],
          "name": "stdout"
        }
      ]
    },
    {
      "metadata": {
        "id": "n5YOj6CpfBVI",
        "colab_type": "code",
        "colab": {}
      },
      "cell_type": "code",
      "source": [
        "from zipfile import ZipFile"
      ],
      "execution_count": 0,
      "outputs": []
    },
    {
      "metadata": {
        "id": "8Gom9VMFfI5L",
        "colab_type": "code",
        "colab": {
          "base_uri": "https://localhost:8080/",
          "height": 386
        },
        "outputId": "eeb63fc9-a923-4fd7-c381-4d0b92d70014"
      },
      "cell_type": "code",
      "source": [
        "!unzip Intro_python_geo-master.zip"
      ],
      "execution_count": 44,
      "outputs": [
        {
          "output_type": "stream",
          "text": [
            "Archive:  Intro_python_geo-master.zip\n",
            "527b4dc20552629da36a2bc8cd3f4a71f0de3309\n",
            "   creating: Intro_python_geo-master/\n",
            "   creating: Intro_python_geo-master/Data/\n",
            "   creating: Intro_python_geo-master/Data/rasters/\n",
            "  inflating: Intro_python_geo-master/Data/rasters/bathy_caribb_4326.tif  \n",
            "   creating: Intro_python_geo-master/Data/shapefiles/\n",
            " extracting: Intro_python_geo-master/Data/shapefiles/WDPA_polygons.cpg  \n",
            "  inflating: Intro_python_geo-master/Data/shapefiles/WDPA_polygons.dbf  \n",
            "  inflating: Intro_python_geo-master/Data/shapefiles/WDPA_polygons.prj  \n",
            "  inflating: Intro_python_geo-master/Data/shapefiles/WDPA_polygons.shp  \n",
            "  inflating: Intro_python_geo-master/Data/shapefiles/WDPA_polygons.shx  \n",
            "  inflating: Intro_python_geo-master/Intro_Python_geospatial.ipynb  \n",
            "  inflating: Intro_python_geo-master/OpticalRS_intall.ipynb  \n",
            "  inflating: Intro_python_geo-master/Summary_table_WDPA_attributes.pdf  \n",
            "  inflating: Intro_python_geo-master/WDPA_Manual_1_4_EN_FINAL.pdf  \n",
            "   creating: Intro_python_geo-master/images/\n",
            "  inflating: Intro_python_geo-master/images/01_coral_reef_bright_spot.jpg  \n",
            "  inflating: Intro_python_geo-master/images/arrays.png  \n",
            "  inflating: Intro_python_geo-master/images/python.jpg  \n",
            "  inflating: Intro_python_geo-master/images/the_rock.png  \n"
          ],
          "name": "stdout"
        }
      ]
    },
    {
      "metadata": {
        "id": "c0pJjgh8UgOZ",
        "colab_type": "code",
        "colab": {
          "base_uri": "https://localhost:8080/",
          "height": 530
        },
        "outputId": "edf3db2d-9c76-45a6-fdc7-8cc512a65662"
      },
      "cell_type": "code",
      "source": [
        "!pip install geopandas\n",
        "import geopandas as gpd\n",
        "import pandas as pd\n",
        "import numpy as np\n",
        "import matplotlib"
      ],
      "execution_count": 24,
      "outputs": [
        {
          "output_type": "stream",
          "text": [
            "Collecting geopandas\n",
            "  Using cached https://files.pythonhosted.org/packages/24/11/d77c157c16909bd77557d00798b05a5b6615ed60acb5900fbe6a65d35e93/geopandas-0.4.0-py2.py3-none-any.whl\n",
            "Collecting pyproj (from geopandas)\n",
            "  Using cached https://files.pythonhosted.org/packages/29/72/5c1888c4948a0c7b736d10e0f0f69966e7c0874a660222ed0a2c2c6daa9f/pyproj-1.9.5.1.tar.gz\n",
            "Collecting shapely (from geopandas)\n",
            "\u001b[?25l  Downloading https://files.pythonhosted.org/packages/38/b6/b53f19062afd49bb5abd049aeed36f13bf8d57ef8f3fa07a5203531a0252/Shapely-1.6.4.post2-cp36-cp36m-manylinux1_x86_64.whl (1.5MB)\n",
            "\u001b[K    100% |████████████████████████████████| 1.5MB 13.6MB/s \n",
            "\u001b[?25hRequirement already satisfied: pandas in /usr/local/lib/python3.6/dist-packages (from geopandas) (0.22.0)\n",
            "Collecting fiona (from geopandas)\n",
            "\u001b[?25l  Downloading https://files.pythonhosted.org/packages/51/d8/2a97aea07eed6675187c42411bfca30816dfdd6831c125c123bac74f0465/Fiona-1.8.4-cp36-cp36m-manylinux1_x86_64.whl (17.9MB)\n",
            "\u001b[K    100% |████████████████████████████████| 17.9MB 2.2MB/s \n",
            "\u001b[?25hRequirement already satisfied: python-dateutil>=2 in /usr/local/lib/python3.6/dist-packages (from pandas->geopandas) (2.5.3)\n",
            "Requirement already satisfied: numpy>=1.9.0 in /usr/local/lib/python3.6/dist-packages (from pandas->geopandas) (1.14.6)\n",
            "Requirement already satisfied: pytz>=2011k in /usr/local/lib/python3.6/dist-packages (from pandas->geopandas) (2018.7)\n",
            "Requirement already satisfied: click<8,>=4.0 in /usr/local/lib/python3.6/dist-packages (from fiona->geopandas) (7.0)\n",
            "Collecting cligj>=0.5 (from fiona->geopandas)\n",
            "  Downloading https://files.pythonhosted.org/packages/e4/be/30a58b4b0733850280d01f8bd132591b4668ed5c7046761098d665ac2174/cligj-0.5.0-py3-none-any.whl\n",
            "Requirement already satisfied: six>=1.7 in /usr/local/lib/python3.6/dist-packages (from fiona->geopandas) (1.11.0)\n",
            "Collecting munch (from fiona->geopandas)\n",
            "Collecting click-plugins>=1.0 (from fiona->geopandas)\n",
            "  Using cached https://files.pythonhosted.org/packages/95/dd/fef84cf1678418f241ef542c0288bdf215bdd3e35f1fe03dc5223a2e80ba/click_plugins-1.0.4-py2.py3-none-any.whl\n",
            "Requirement already satisfied: attrs>=17 in /usr/local/lib/python3.6/dist-packages (from fiona->geopandas) (18.2.0)\n",
            "Building wheels for collected packages: pyproj\n",
            "  Running setup.py bdist_wheel for pyproj ... \u001b[?25l-\b \b\\\b \b|\b \b/\b \b-\b \b\\\b \b|\b \b/\b \b-\b \b\\\b \b|\b \b/\b \b-\b \b\\\b \b|\b \b/\b \b-\b \b\\\b \b|\b \b/\b \b-\b \b\\\b \b|\b \b/\b \b-\b \b\\\b \b|\b \b/\b \b-\b \b\\\b \b|\b \b/\b \b-\b \b\\\b \b|\b \b/\b \b-\b \b\\\b \b|\b \b/\b \b-\b \b\\\b \b|\b \b/\b \b-\b \b\\\b \b|\b \b/\b \b-\b \b\\\b \b|\b \b/\b \b-\b \b\\\b \b|\b \b/\b \b-\b \b\\\b \b|\b \b/\b \b-\b \b\\\b \b|\b \b/\b \b-\b \b\\\b \b|\b \b/\b \b-\b \b\\\b \b|\b \b/\b \b-\b \b\\\b \b|\b \b/\b \b-\b \b\\\b \b|\b \b/\b \b-\b \b\\\b \b|\b \b/\b \b-\b \b\\\b \b|\b \b/\b \b-\b \b\\\b \b|\b \b/\b \b-\b \b\\\b \b|\b \b/\b \b-\b \b\\\b \b|\b \b/\b \bdone\n",
            "\u001b[?25h  Stored in directory: /root/.cache/pip/wheels/89/77/ec/a537585d1022dafde0317dd19d33c4a30d4ee61e19f25ebd8e\n",
            "Successfully built pyproj\n",
            "Installing collected packages: pyproj, shapely, cligj, munch, click-plugins, fiona, geopandas\n",
            "Successfully installed click-plugins-1.0.4 cligj-0.5.0 fiona-1.8.4 geopandas-0.4.0 munch-2.3.2 pyproj-1.9.5.1 shapely-1.6.4.post2\n"
          ],
          "name": "stdout"
        }
      ]
    },
    {
      "metadata": {
        "id": "_YvKdmdnU4XD",
        "colab_type": "code",
        "colab": {}
      },
      "cell_type": "code",
      "source": [
        "# Define your vector filepath\n",
        "conserve_fp = \"WDPA_polygons.shp\"\n",
        "\n"
      ],
      "execution_count": 0,
      "outputs": []
    },
    {
      "metadata": {
        "id": "PhxrB-uSgQGd",
        "colab_type": "code",
        "colab": {
          "base_uri": "https://localhost:8080/",
          "height": 52
        },
        "outputId": "1d2a92f1-96b7-400f-d54a-bb159e8bb642"
      },
      "cell_type": "code",
      "source": [
        "ls"
      ],
      "execution_count": 47,
      "outputs": [
        {
          "output_type": "stream",
          "text": [
            "\u001b[0m\u001b[01;34mIntro_python_geo-master\u001b[0m/     shapefiles.zip\n",
            "Intro_python_geo-master.zip  WDPA_polygons.shp\n"
          ],
          "name": "stdout"
        }
      ]
    },
    {
      "metadata": {
        "id": "9ej4uOCBgTs7",
        "colab_type": "code",
        "colab": {
          "base_uri": "https://localhost:8080/",
          "height": 34
        },
        "outputId": "f5bc29b8-756a-4a6c-b455-c8ed153b7662"
      },
      "cell_type": "code",
      "source": [
        "cd Intro_python_geo-master"
      ],
      "execution_count": 48,
      "outputs": [
        {
          "output_type": "stream",
          "text": [
            "/root/Intro_python_geo-master\n"
          ],
          "name": "stdout"
        }
      ]
    },
    {
      "metadata": {
        "id": "Spd3OdrAgbaI",
        "colab_type": "code",
        "colab": {
          "base_uri": "https://localhost:8080/",
          "height": 52
        },
        "outputId": "fbf6827c-4464-47d5-b739-d5d0483146c4"
      },
      "cell_type": "code",
      "source": [
        "!ls"
      ],
      "execution_count": 49,
      "outputs": [
        {
          "output_type": "stream",
          "text": [
            "Data\tIntro_Python_geospatial.ipynb  Summary_table_WDPA_attributes.pdf\n",
            "images\tOpticalRS_intall.ipynb\t       WDPA_Manual_1_4_EN_FINAL.pdf\n"
          ],
          "name": "stdout"
        }
      ]
    },
    {
      "metadata": {
        "id": "HhHi5yeahx98",
        "colab_type": "code",
        "colab": {}
      },
      "cell_type": "code",
      "source": [
        "!pip2 install OpticalRS > /dev/null"
      ],
      "execution_count": 0,
      "outputs": []
    },
    {
      "metadata": {
        "id": "-NukeMzFglg7",
        "colab_type": "code",
        "colab": {
          "base_uri": "https://localhost:8080/",
          "height": 34
        },
        "outputId": "dd6280e6-b55d-4744-8e4c-ff84bc4c8a9e"
      },
      "cell_type": "code",
      "source": [
        "cd Data"
      ],
      "execution_count": 50,
      "outputs": [
        {
          "output_type": "stream",
          "text": [
            "/root/Intro_python_geo-master/Data\n"
          ],
          "name": "stdout"
        }
      ]
    },
    {
      "metadata": {
        "id": "DDmgRwpYgpoe",
        "colab_type": "code",
        "colab": {
          "base_uri": "https://localhost:8080/",
          "height": 34
        },
        "outputId": "f503a1ee-c809-4c86-9cc7-8ff3e9e632eb"
      },
      "cell_type": "code",
      "source": [
        "cd shapefiles"
      ],
      "execution_count": 52,
      "outputs": [
        {
          "output_type": "stream",
          "text": [
            "/root/Intro_python_geo-master/Data/shapefiles\n"
          ],
          "name": "stdout"
        }
      ]
    },
    {
      "metadata": {
        "id": "suiA__4tg4mR",
        "colab_type": "code",
        "colab": {
          "base_uri": "https://localhost:8080/",
          "height": 52
        },
        "outputId": "8e685b30-1a01-440d-9449-1e94fb93b9fc"
      },
      "cell_type": "code",
      "source": [
        "!ls"
      ],
      "execution_count": 53,
      "outputs": [
        {
          "output_type": "stream",
          "text": [
            "WDPA_polygons.cpg  WDPA_polygons.prj  WDPA_polygons.shx\n",
            "WDPA_polygons.dbf  WDPA_polygons.shp\n"
          ],
          "name": "stdout"
        }
      ]
    },
    {
      "metadata": {
        "id": "BrNHtTZSVEDd",
        "colab_type": "code",
        "colab": {}
      },
      "cell_type": "code",
      "source": [
        "# Read vector data in as GeoDataFrame\n",
        "import geopandas as gpd\n",
        "conserve = gpd.read_file(conserve_fp)"
      ],
      "execution_count": 0,
      "outputs": []
    },
    {
      "metadata": {
        "id": "oMLPIuCNhQcd",
        "colab_type": "text"
      },
      "cell_type": "markdown",
      "source": [
        "Our first preprocessing step is to check on the data's projection. Projections can be tricky and I'm not going to delve too far into this topic here, but below are some basic steps for identifying and changing your data's projection (more details can be found here)."
      ]
    },
    {
      "metadata": {
        "id": "wpNqx0O2hkq6",
        "colab_type": "code",
        "colab": {}
      },
      "cell_type": "code",
      "source": [
        ""
      ],
      "execution_count": 0,
      "outputs": []
    },
    {
      "metadata": {
        "id": "lJyQAVKxhD4G",
        "colab_type": "code",
        "colab": {
          "base_uri": "https://localhost:8080/",
          "height": 34
        },
        "outputId": "be15b7ba-f7f8-496e-a971-5b3df69feb5f"
      },
      "cell_type": "code",
      "source": [
        "# Check the Coordinate Reference System (CRS)\n",
        "conserve.crs"
      ],
      "execution_count": 59,
      "outputs": [
        {
          "output_type": "execute_result",
          "data": {
            "text/plain": [
              "{}"
            ]
          },
          "metadata": {
            "tags": []
          },
          "execution_count": 59
        }
      ]
    },
    {
      "metadata": {
        "id": "DK0RcE85iqpK",
        "colab_type": "code",
        "colab": {
          "base_uri": "https://localhost:8080/",
          "height": 635
        },
        "outputId": "5160f491-ff36-47ed-c323-62020b55fc00"
      },
      "cell_type": "code",
      "source": [
        "!pip2 install OpticalRS"
      ],
      "execution_count": 62,
      "outputs": [
        {
          "output_type": "stream",
          "text": [
            "Requirement already satisfied: OpticalRS in /usr/local/lib/python2.7/dist-packages (1.0.4)\n",
            "Requirement already satisfied: numpy in /usr/local/lib/python2.7/dist-packages (from OpticalRS) (1.14.6)\n",
            "Requirement already satisfied: geopandas in /usr/local/lib/python2.7/dist-packages (from OpticalRS) (0.4.0)\n",
            "Requirement already satisfied: pandas in /usr/local/lib/python2.7/dist-packages (from OpticalRS) (0.22.0)\n",
            "Requirement already satisfied: matplotlib in /usr/local/lib/python2.7/dist-packages (from OpticalRS) (2.1.2)\n",
            "Requirement already satisfied: scikit-learn in /usr/local/lib/python2.7/dist-packages (from OpticalRS) (0.20.1)\n",
            "Requirement already satisfied: statsmodels in /usr/local/lib/python2.7/dist-packages (from OpticalRS) (0.8.0)\n",
            "Requirement already satisfied: scipy in /usr/local/lib/python2.7/dist-packages (from OpticalRS) (1.1.0)\n",
            "Requirement already satisfied: rasterstats==0.5 in /usr/local/lib/python2.7/dist-packages (from OpticalRS) (0.5)\n",
            "Requirement already satisfied: scikit-image in /usr/local/lib/python2.7/dist-packages (from OpticalRS) (0.13.1)\n",
            "Requirement already satisfied: GDAL in /usr/lib/python2.7/dist-packages (from OpticalRS) (2.2.2)\n",
            "Requirement already satisfied: pyproj in /usr/local/lib/python2.7/dist-packages (from geopandas->OpticalRS) (1.9.5.1)\n",
            "Requirement already satisfied: shapely in /usr/local/lib/python2.7/dist-packages (from geopandas->OpticalRS) (1.6.4.post2)\n",
            "Requirement already satisfied: fiona in /usr/local/lib/python2.7/dist-packages (from geopandas->OpticalRS) (1.8.4)\n",
            "Requirement already satisfied: pytz>=2011k in /usr/local/lib/python2.7/dist-packages (from pandas->OpticalRS) (2018.7)\n",
            "Requirement already satisfied: python-dateutil in /usr/local/lib/python2.7/dist-packages (from pandas->OpticalRS) (2.5.3)\n",
            "Requirement already satisfied: cycler>=0.10 in /usr/local/lib/python2.7/dist-packages (from matplotlib->OpticalRS) (0.10.0)\n",
            "Requirement already satisfied: backports.functools-lru-cache in /usr/local/lib/python2.7/dist-packages (from matplotlib->OpticalRS) (1.5)\n",
            "Requirement already satisfied: subprocess32 in /usr/local/lib/python2.7/dist-packages (from matplotlib->OpticalRS) (3.5.3)\n",
            "Requirement already satisfied: six>=1.10 in /usr/local/lib/python2.7/dist-packages (from matplotlib->OpticalRS) (1.11.0)\n",
            "Requirement already satisfied: pyparsing!=2.0.4,!=2.1.2,!=2.1.6,>=2.0.1 in /usr/local/lib/python2.7/dist-packages (from matplotlib->OpticalRS) (2.3.0)\n",
            "Requirement already satisfied: patsy in /usr/local/lib/python2.7/dist-packages (from statsmodels->OpticalRS) (0.5.1)\n",
            "Requirement already satisfied: docopt in /usr/local/lib/python2.7/dist-packages (from rasterstats==0.5->OpticalRS) (0.6.2)\n",
            "Requirement already satisfied: PyWavelets>=0.4.0 in /usr/local/lib/python2.7/dist-packages (from scikit-image->OpticalRS) (1.0.1)\n",
            "Requirement already satisfied: networkx>=1.8 in /usr/local/lib/python2.7/dist-packages (from scikit-image->OpticalRS) (2.2)\n",
            "Requirement already satisfied: pillow>=2.1.0 in /usr/local/lib/python2.7/dist-packages (from scikit-image->OpticalRS) (4.0.0)\n",
            "Requirement already satisfied: cligj>=0.5 in /usr/local/lib/python2.7/dist-packages (from fiona->geopandas->OpticalRS) (0.5.0)\n",
            "Requirement already satisfied: munch in /usr/local/lib/python2.7/dist-packages (from fiona->geopandas->OpticalRS) (2.3.2)\n",
            "Requirement already satisfied: click-plugins>=1.0 in /usr/local/lib/python2.7/dist-packages (from fiona->geopandas->OpticalRS) (1.0.4)\n",
            "Requirement already satisfied: click<8,>=4.0 in /usr/local/lib/python2.7/dist-packages (from fiona->geopandas->OpticalRS) (7.0)\n",
            "Requirement already satisfied: attrs>=17 in /usr/local/lib/python2.7/dist-packages (from fiona->geopandas->OpticalRS) (18.2.0)\n",
            "Requirement already satisfied: enum34 in /usr/local/lib/python2.7/dist-packages (from fiona->geopandas->OpticalRS) (1.1.6)\n",
            "Requirement already satisfied: decorator>=4.3.0 in /usr/local/lib/python2.7/dist-packages (from networkx>=1.8->scikit-image->OpticalRS) (4.3.0)\n",
            "Requirement already satisfied: olefile in /usr/local/lib/python2.7/dist-packages (from pillow>=2.1.0->scikit-image->OpticalRS) (0.46)\n"
          ],
          "name": "stdout"
        }
      ]
    },
    {
      "metadata": {
        "id": "ktLVwb11j1h4",
        "colab_type": "code",
        "colab": {}
      },
      "cell_type": "code",
      "source": [
        "# Read vector data in as GeoDataFrame\n",
        "import geopandas as gpd\n",
        "conserve = gpd.read_file(conserve_fp)"
      ],
      "execution_count": 0,
      "outputs": []
    },
    {
      "metadata": {
        "id": "Z7R1ue39kE1Y",
        "colab_type": "code",
        "colab": {}
      },
      "cell_type": "code",
      "source": [
        "# Define your vector filepath\n",
        "conserve_fp = \"WDPA_polygons.shp\""
      ],
      "execution_count": 0,
      "outputs": []
    },
    {
      "metadata": {
        "id": "kKjfhNrHll-J",
        "colab_type": "code",
        "colab": {
          "base_uri": "https://localhost:8080/",
          "height": 593
        },
        "outputId": "db713d0f-9395-4df4-b25f-d2393adc46bf"
      },
      "cell_type": "code",
      "source": [
        "# Look at the first few features in our attribute table\n",
        "conserve.head()"
      ],
      "execution_count": 69,
      "outputs": [
        {
          "output_type": "execute_result",
          "data": {
            "text/html": [
              "<div>\n",
              "<style scoped>\n",
              "    .dataframe tbody tr th:only-of-type {\n",
              "        vertical-align: middle;\n",
              "    }\n",
              "\n",
              "    .dataframe tbody tr th {\n",
              "        vertical-align: top;\n",
              "    }\n",
              "\n",
              "    .dataframe thead th {\n",
              "        text-align: right;\n",
              "    }\n",
              "</style>\n",
              "<table border=\"1\" class=\"dataframe\">\n",
              "  <thead>\n",
              "    <tr style=\"text-align: right;\">\n",
              "      <th></th>\n",
              "      <th>WDPAID</th>\n",
              "      <th>WDPA_PID</th>\n",
              "      <th>PA_DEF</th>\n",
              "      <th>NAME</th>\n",
              "      <th>ORIG_NAME</th>\n",
              "      <th>DESIG</th>\n",
              "      <th>DESIG_ENG</th>\n",
              "      <th>DESIG_TYPE</th>\n",
              "      <th>IUCN_CAT</th>\n",
              "      <th>INT_CRIT</th>\n",
              "      <th>...</th>\n",
              "      <th>GOV_TYPE</th>\n",
              "      <th>OWN_TYPE</th>\n",
              "      <th>MANG_AUTH</th>\n",
              "      <th>MANG_PLAN</th>\n",
              "      <th>VERIF</th>\n",
              "      <th>METADATAID</th>\n",
              "      <th>SUB_LOC</th>\n",
              "      <th>PARENT_ISO</th>\n",
              "      <th>ISO3</th>\n",
              "      <th>geometry</th>\n",
              "    </tr>\n",
              "  </thead>\n",
              "  <tbody>\n",
              "    <tr>\n",
              "      <th>0</th>\n",
              "      <td>555624222.0</td>\n",
              "      <td>555624222</td>\n",
              "      <td>1</td>\n",
              "      <td>La Caleta</td>\n",
              "      <td>La Caleta</td>\n",
              "      <td>Specially Protected Area (Cartagena Convention)</td>\n",
              "      <td>Specially Protected Area (Cartagena Convention)</td>\n",
              "      <td>Regional</td>\n",
              "      <td>II</td>\n",
              "      <td>Not Applicable</td>\n",
              "      <td>...</td>\n",
              "      <td>Federal or national ministry or agency</td>\n",
              "      <td>Not Reported</td>\n",
              "      <td>Secretaria de Estado de Medio Ambiente y Recur...</td>\n",
              "      <td>http://www.spaw-palisting.org/area_public/show...</td>\n",
              "      <td>State Verified</td>\n",
              "      <td>1900</td>\n",
              "      <td>Marine</td>\n",
              "      <td>DOM</td>\n",
              "      <td>DOM</td>\n",
              "      <td>POLYGON ((-69.70475633263862 18.45382580331824...</td>\n",
              "    </tr>\n",
              "    <tr>\n",
              "      <th>1</th>\n",
              "      <td>555624132.0</td>\n",
              "      <td>555624132</td>\n",
              "      <td>1</td>\n",
              "      <td>Humedales de Jaragua</td>\n",
              "      <td>Humedales de Jaragua</td>\n",
              "      <td>Ramsar Site, Wetland of International Importance</td>\n",
              "      <td>Ramsar Site, Wetland of International Importance</td>\n",
              "      <td>International</td>\n",
              "      <td>Not Reported</td>\n",
              "      <td>(ii) (iv) (vii) (viii)</td>\n",
              "      <td>...</td>\n",
              "      <td>Not Reported</td>\n",
              "      <td>Not Reported</td>\n",
              "      <td>Not Reported</td>\n",
              "      <td>https://rsis.ramsar.org/ris/2210</td>\n",
              "      <td>State Verified</td>\n",
              "      <td>1856</td>\n",
              "      <td>Not Reported</td>\n",
              "      <td>DOM</td>\n",
              "      <td>DOM</td>\n",
              "      <td>(POLYGON ((-71.53151544068498 17.7571400007105...</td>\n",
              "    </tr>\n",
              "    <tr>\n",
              "      <th>2</th>\n",
              "      <td>555624219.0</td>\n",
              "      <td>555624219</td>\n",
              "      <td>1</td>\n",
              "      <td>Los Haitises</td>\n",
              "      <td>Los Haitises</td>\n",
              "      <td>Specially Protected Area (Cartagena Convention)</td>\n",
              "      <td>Specially Protected Area (Cartagena Convention)</td>\n",
              "      <td>Regional</td>\n",
              "      <td>II</td>\n",
              "      <td>Not Applicable</td>\n",
              "      <td>...</td>\n",
              "      <td>Federal or national ministry or agency</td>\n",
              "      <td>Not Reported</td>\n",
              "      <td>Secretaria de Estado de Medio Ambiente y Recur...</td>\n",
              "      <td>http://www.spaw-palisting.org/area_public/show...</td>\n",
              "      <td>State Verified</td>\n",
              "      <td>1900</td>\n",
              "      <td>Marine</td>\n",
              "      <td>DOM</td>\n",
              "      <td>DOM</td>\n",
              "      <td>(POLYGON ((-69.87710541868012 19.1207403670743...</td>\n",
              "    </tr>\n",
              "    <tr>\n",
              "      <th>3</th>\n",
              "      <td>555624220.0</td>\n",
              "      <td>555624220</td>\n",
              "      <td>1</td>\n",
              "      <td>Jaragua</td>\n",
              "      <td>Jaragua</td>\n",
              "      <td>Specially Protected Area (Cartagena Convention)</td>\n",
              "      <td>Specially Protected Area (Cartagena Convention)</td>\n",
              "      <td>Regional</td>\n",
              "      <td>II</td>\n",
              "      <td>Not Applicable</td>\n",
              "      <td>...</td>\n",
              "      <td>Federal or national ministry or agency</td>\n",
              "      <td>Not Reported</td>\n",
              "      <td>Secretaria de Estado de Medio Ambiente y Recur...</td>\n",
              "      <td>http://www.spaw-palisting.org/area_public/show...</td>\n",
              "      <td>State Verified</td>\n",
              "      <td>1900</td>\n",
              "      <td>Marine</td>\n",
              "      <td>DOM</td>\n",
              "      <td>DOM</td>\n",
              "      <td>POLYGON ((-71.6339539899846 18.07129016161173,...</td>\n",
              "    </tr>\n",
              "    <tr>\n",
              "      <th>4</th>\n",
              "      <td>555624221.0</td>\n",
              "      <td>555624221</td>\n",
              "      <td>1</td>\n",
              "      <td>Sierra de Bahoruco</td>\n",
              "      <td>Sierra de Bahoruco</td>\n",
              "      <td>Specially Protected Area (Cartagena Convention)</td>\n",
              "      <td>Specially Protected Area (Cartagena Convention)</td>\n",
              "      <td>Regional</td>\n",
              "      <td>II</td>\n",
              "      <td>Not Applicable</td>\n",
              "      <td>...</td>\n",
              "      <td>Federal or national ministry or agency</td>\n",
              "      <td>Not Reported</td>\n",
              "      <td>Secretaria de Estado de Medio Ambiente y Recur...</td>\n",
              "      <td>http://www.spaw-palisting.org/area_public/show...</td>\n",
              "      <td>State Verified</td>\n",
              "      <td>1900</td>\n",
              "      <td>Marine</td>\n",
              "      <td>DOM</td>\n",
              "      <td>DOM</td>\n",
              "      <td>POLYGON ((-71.49641143973611 17.93031775625951...</td>\n",
              "    </tr>\n",
              "  </tbody>\n",
              "</table>\n",
              "<p>5 rows × 29 columns</p>\n",
              "</div>"
            ],
            "text/plain": [
              "        WDPAID   WDPA_PID PA_DEF                  NAME             ORIG_NAME  \\\n",
              "0  555624222.0  555624222      1             La Caleta             La Caleta   \n",
              "1  555624132.0  555624132      1  Humedales de Jaragua  Humedales de Jaragua   \n",
              "2  555624219.0  555624219      1          Los Haitises          Los Haitises   \n",
              "3  555624220.0  555624220      1               Jaragua               Jaragua   \n",
              "4  555624221.0  555624221      1    Sierra de Bahoruco    Sierra de Bahoruco   \n",
              "\n",
              "                                              DESIG  \\\n",
              "0   Specially Protected Area (Cartagena Convention)   \n",
              "1  Ramsar Site, Wetland of International Importance   \n",
              "2   Specially Protected Area (Cartagena Convention)   \n",
              "3   Specially Protected Area (Cartagena Convention)   \n",
              "4   Specially Protected Area (Cartagena Convention)   \n",
              "\n",
              "                                          DESIG_ENG     DESIG_TYPE  \\\n",
              "0   Specially Protected Area (Cartagena Convention)       Regional   \n",
              "1  Ramsar Site, Wetland of International Importance  International   \n",
              "2   Specially Protected Area (Cartagena Convention)       Regional   \n",
              "3   Specially Protected Area (Cartagena Convention)       Regional   \n",
              "4   Specially Protected Area (Cartagena Convention)       Regional   \n",
              "\n",
              "       IUCN_CAT                INT_CRIT  \\\n",
              "0            II          Not Applicable   \n",
              "1  Not Reported  (ii) (iv) (vii) (viii)   \n",
              "2            II          Not Applicable   \n",
              "3            II          Not Applicable   \n",
              "4            II          Not Applicable   \n",
              "\n",
              "                         ...                          \\\n",
              "0                        ...                           \n",
              "1                        ...                           \n",
              "2                        ...                           \n",
              "3                        ...                           \n",
              "4                        ...                           \n",
              "\n",
              "                                 GOV_TYPE      OWN_TYPE  \\\n",
              "0  Federal or national ministry or agency  Not Reported   \n",
              "1                            Not Reported  Not Reported   \n",
              "2  Federal or national ministry or agency  Not Reported   \n",
              "3  Federal or national ministry or agency  Not Reported   \n",
              "4  Federal or national ministry or agency  Not Reported   \n",
              "\n",
              "                                           MANG_AUTH  \\\n",
              "0  Secretaria de Estado de Medio Ambiente y Recur...   \n",
              "1                                       Not Reported   \n",
              "2  Secretaria de Estado de Medio Ambiente y Recur...   \n",
              "3  Secretaria de Estado de Medio Ambiente y Recur...   \n",
              "4  Secretaria de Estado de Medio Ambiente y Recur...   \n",
              "\n",
              "                                           MANG_PLAN           VERIF  \\\n",
              "0  http://www.spaw-palisting.org/area_public/show...  State Verified   \n",
              "1                   https://rsis.ramsar.org/ris/2210  State Verified   \n",
              "2  http://www.spaw-palisting.org/area_public/show...  State Verified   \n",
              "3  http://www.spaw-palisting.org/area_public/show...  State Verified   \n",
              "4  http://www.spaw-palisting.org/area_public/show...  State Verified   \n",
              "\n",
              "  METADATAID       SUB_LOC PARENT_ISO  ISO3  \\\n",
              "0       1900        Marine        DOM   DOM   \n",
              "1       1856  Not Reported        DOM   DOM   \n",
              "2       1900        Marine        DOM   DOM   \n",
              "3       1900        Marine        DOM   DOM   \n",
              "4       1900        Marine        DOM   DOM   \n",
              "\n",
              "                                            geometry  \n",
              "0  POLYGON ((-69.70475633263862 18.45382580331824...  \n",
              "1  (POLYGON ((-71.53151544068498 17.7571400007105...  \n",
              "2  (POLYGON ((-69.87710541868012 19.1207403670743...  \n",
              "3  POLYGON ((-71.6339539899846 18.07129016161173,...  \n",
              "4  POLYGON ((-71.49641143973611 17.93031775625951...  \n",
              "\n",
              "[5 rows x 29 columns]"
            ]
          },
          "metadata": {
            "tags": []
          },
          "execution_count": 69
        }
      ]
    },
    {
      "metadata": {
        "id": "UuV6M-E3lt70",
        "colab_type": "code",
        "colab": {
          "base_uri": "https://localhost:8080/",
          "height": 615
        },
        "outputId": "efc2c9d3-8d38-4c4e-c261-11e768bee5d6"
      },
      "cell_type": "code",
      "source": [
        "# Look at all of the attributes in your dataset\n",
        "conserve.info()"
      ],
      "execution_count": 70,
      "outputs": [
        {
          "output_type": "stream",
          "text": [
            "<class 'geopandas.geodataframe.GeoDataFrame'>\n",
            "RangeIndex: 143 entries, 0 to 142\n",
            "Data columns (total 29 columns):\n",
            "WDPAID        143 non-null float64\n",
            "WDPA_PID      143 non-null object\n",
            "PA_DEF        143 non-null object\n",
            "NAME          143 non-null object\n",
            "ORIG_NAME     143 non-null object\n",
            "DESIG         143 non-null object\n",
            "DESIG_ENG     143 non-null object\n",
            "DESIG_TYPE    143 non-null object\n",
            "IUCN_CAT      143 non-null object\n",
            "INT_CRIT      143 non-null object\n",
            "MARINE        143 non-null object\n",
            "REP_M_AREA    143 non-null float64\n",
            "GIS_M_AREA    143 non-null float64\n",
            "REP_AREA      143 non-null float64\n",
            "GIS_AREA      143 non-null float64\n",
            "NO_TAKE       143 non-null object\n",
            "NO_TK_AREA    143 non-null float64\n",
            "STATUS        143 non-null object\n",
            "STATUS_YR     143 non-null int64\n",
            "GOV_TYPE      143 non-null object\n",
            "OWN_TYPE      143 non-null object\n",
            "MANG_AUTH     143 non-null object\n",
            "MANG_PLAN     143 non-null object\n",
            "VERIF         143 non-null object\n",
            "METADATAID    143 non-null int64\n",
            "SUB_LOC       143 non-null object\n",
            "PARENT_ISO    143 non-null object\n",
            "ISO3          143 non-null object\n",
            "geometry      143 non-null object\n",
            "dtypes: float64(6), int64(2), object(21)\n",
            "memory usage: 32.5+ KB\n"
          ],
          "name": "stdout"
        }
      ]
    },
    {
      "metadata": {
        "id": "jt3oOqDhl2Gb",
        "colab_type": "code",
        "colab": {
          "base_uri": "https://localhost:8080/",
          "height": 34
        },
        "outputId": "26256c4c-ac6d-4b47-a62d-a42b16e3d3a5"
      },
      "cell_type": "code",
      "source": [
        "# What is the total conserved area in the DR? Conserved area = \"GIS_AREA\" (we'll discuss how to use the inherent geometry of the GeoDataFrame to do this later).\n",
        "area_sum = conserve.GIS_AREA.sum()\n",
        "area_sum"
      ],
      "execution_count": 71,
      "outputs": [
        {
          "output_type": "execute_result",
          "data": {
            "text/plain": [
              "65255.47670531727"
            ]
          },
          "metadata": {
            "tags": []
          },
          "execution_count": 71
        }
      ]
    },
    {
      "metadata": {
        "id": "viOVohLHl74u",
        "colab_type": "code",
        "colab": {
          "base_uri": "https://localhost:8080/",
          "height": 34
        },
        "outputId": "45390a7b-b4c2-42ad-a949-19b3574f7045"
      },
      "cell_type": "code",
      "source": [
        "# What is the largest area conserved?\n",
        "area_max = conserve.GIS_AREA.max()\n",
        "area_max"
      ],
      "execution_count": 72,
      "outputs": [
        {
          "output_type": "execute_result",
          "data": {
            "text/plain": [
              "35469.1970057065"
            ]
          },
          "metadata": {
            "tags": []
          },
          "execution_count": 72
        }
      ]
    },
    {
      "metadata": {
        "id": "7Sk5stuDmAjP",
        "colab_type": "code",
        "colab": {
          "base_uri": "https://localhost:8080/",
          "height": 34
        },
        "outputId": "f572c73e-5b23-4ff9-e632-e66aa083aef0"
      },
      "cell_type": "code",
      "source": [
        "# What is the smallest area conserved?\n",
        "area_min = conserve.GIS_AREA.min()\n",
        "area_min"
      ],
      "execution_count": 73,
      "outputs": [
        {
          "output_type": "execute_result",
          "data": {
            "text/plain": [
              "0.007879848064912"
            ]
          },
          "metadata": {
            "tags": []
          },
          "execution_count": 73
        }
      ]
    },
    {
      "metadata": {
        "id": "vA1L2ZymmERz",
        "colab_type": "code",
        "colab": {
          "base_uri": "https://localhost:8080/",
          "height": 34
        },
        "outputId": "599e0812-d6a2-448d-8490-e9b8408c4213"
      },
      "cell_type": "code",
      "source": [
        "# What are the unique values for the \"MARINE\" attribute?\n",
        "conserve['MARINE'].unique()"
      ],
      "execution_count": 74,
      "outputs": [
        {
          "output_type": "execute_result",
          "data": {
            "text/plain": [
              "array(['2', '1', '0'], dtype=object)"
            ]
          },
          "metadata": {
            "tags": []
          },
          "execution_count": 74
        }
      ]
    },
    {
      "metadata": {
        "id": "idBQ9NBpmJU0",
        "colab_type": "code",
        "colab": {
          "base_uri": "https://localhost:8080/",
          "height": 87
        },
        "outputId": "60bb52ab-6ffd-419f-d8dc-f1c761eb4c13"
      },
      "cell_type": "code",
      "source": [
        "# How many different areas are \"Marine\" (2), \"Terrestrial\" (0), or both (1)?\n",
        "type_park = conserve['MARINE'].value_counts()\n",
        "type_park"
      ],
      "execution_count": 75,
      "outputs": [
        {
          "output_type": "execute_result",
          "data": {
            "text/plain": [
              "0    109\n",
              "1     27\n",
              "2      7\n",
              "Name: MARINE, dtype: int64"
            ]
          },
          "metadata": {
            "tags": []
          },
          "execution_count": 75
        }
      ]
    },
    {
      "metadata": {
        "id": "cvrkve0xmWno",
        "colab_type": "code",
        "colab": {}
      },
      "cell_type": "code",
      "source": [
        "# Write all of this info into a string\n",
        "\"The total conserved area is {} square meters and there are {} MPAs, {} terrestrial areas, and {} mixed areas\".format(area_sum, type_park[\"2\"], type_park[\"0\"], type_park[\"1\"])"
      ],
      "execution_count": 0,
      "outputs": []
    },
    {
      "metadata": {
        "id": "vtM3XodkobIx",
        "colab_type": "code",
        "colab": {
          "base_uri": "https://localhost:8080/",
          "height": 615
        },
        "outputId": "1a8d6635-66f6-426b-8bb7-e2a7afbb2e1c"
      },
      "cell_type": "code",
      "source": [
        "conserve.info()"
      ],
      "execution_count": 89,
      "outputs": [
        {
          "output_type": "stream",
          "text": [
            "<class 'geopandas.geodataframe.GeoDataFrame'>\n",
            "RangeIndex: 143 entries, 0 to 142\n",
            "Data columns (total 29 columns):\n",
            "WDPAID        143 non-null float64\n",
            "WDPA_PID      143 non-null object\n",
            "PA_DEF        143 non-null object\n",
            "NAME          143 non-null object\n",
            "ORIG_NAME     143 non-null object\n",
            "DESIG         143 non-null object\n",
            "DESIG_ENG     143 non-null object\n",
            "DESIG_TYPE    143 non-null object\n",
            "IUCN_CAT      143 non-null object\n",
            "INT_CRIT      143 non-null object\n",
            "MARINE        143 non-null object\n",
            "REP_M_AREA    143 non-null float64\n",
            "GIS_M_AREA    143 non-null float64\n",
            "REP_AREA      143 non-null float64\n",
            "GIS_AREA      143 non-null float64\n",
            "NO_TAKE       143 non-null object\n",
            "NO_TK_AREA    143 non-null float64\n",
            "STATUS        143 non-null object\n",
            "STATUS_YR     143 non-null int64\n",
            "GOV_TYPE      143 non-null object\n",
            "OWN_TYPE      143 non-null object\n",
            "MANG_AUTH     143 non-null object\n",
            "MANG_PLAN     143 non-null object\n",
            "VERIF         143 non-null object\n",
            "METADATAID    143 non-null int64\n",
            "SUB_LOC       143 non-null object\n",
            "PARENT_ISO    143 non-null object\n",
            "ISO3          143 non-null object\n",
            "geometry      143 non-null object\n",
            "dtypes: float64(6), int64(2), object(21)\n",
            "memory usage: 32.5+ KB\n"
          ],
          "name": "stdout"
        }
      ]
    },
    {
      "metadata": {
        "id": "NoiDAZw3pFIS",
        "colab_type": "code",
        "colab": {
          "base_uri": "https://localhost:8080/",
          "height": 596
        },
        "outputId": "170d4e97-535d-49d6-b2d3-07cdf96df9b1"
      },
      "cell_type": "code",
      "source": [
        "!pip install shapely\n",
        "!pip install descartes\n",
        "\n",
        "conserve.plot()"
      ],
      "execution_count": 93,
      "outputs": [
        {
          "output_type": "stream",
          "text": [
            "Requirement already satisfied: shapely in /usr/local/lib/python3.6/dist-packages (1.6.4.post2)\n",
            "Collecting descartes\n",
            "  Downloading https://files.pythonhosted.org/packages/e5/b6/1ed2eb03989ae574584664985367ba70cd9cf8b32ee8cad0e8aaeac819f3/descartes-1.1.0-py3-none-any.whl\n",
            "Requirement already satisfied: matplotlib in /usr/local/lib/python3.6/dist-packages (from descartes) (2.1.2)\n",
            "Requirement already satisfied: pytz in /usr/local/lib/python3.6/dist-packages (from matplotlib->descartes) (2018.7)\n",
            "Requirement already satisfied: python-dateutil>=2.1 in /usr/local/lib/python3.6/dist-packages (from matplotlib->descartes) (2.5.3)\n",
            "Requirement already satisfied: pyparsing!=2.0.4,!=2.1.2,!=2.1.6,>=2.0.1 in /usr/local/lib/python3.6/dist-packages (from matplotlib->descartes) (2.3.0)\n",
            "Requirement already satisfied: cycler>=0.10 in /usr/local/lib/python3.6/dist-packages (from matplotlib->descartes) (0.10.0)\n",
            "Requirement already satisfied: numpy>=1.7.1 in /usr/local/lib/python3.6/dist-packages (from matplotlib->descartes) (1.14.6)\n",
            "Requirement already satisfied: six>=1.10 in /usr/local/lib/python3.6/dist-packages (from matplotlib->descartes) (1.11.0)\n",
            "Installing collected packages: descartes\n",
            "Successfully installed descartes-1.1.0\n"
          ],
          "name": "stdout"
        },
        {
          "output_type": "execute_result",
          "data": {
            "text/plain": [
              "<matplotlib.axes._subplots.AxesSubplot at 0x7f12ac9a5eb8>"
            ]
          },
          "metadata": {
            "tags": []
          },
          "execution_count": 93
        },
        {
          "output_type": "display_data",
          "data": {
            "image/png": "[encoded data removed]",
            "text/plain": [
              "<matplotlib.figure.Figure at 0x7f12aca1bd68>"
            ]
          },
          "metadata": {
            "tags": []
          }
        }
      ]
    },
    {
      "metadata": {
        "id": "GHKh0BtzqUx4",
        "colab_type": "code",
        "colab": {
          "base_uri": "https://localhost:8080/",
          "height": 365
        },
        "outputId": "6df59645-ee5f-425d-90c9-b8ca35eead5e"
      },
      "cell_type": "code",
      "source": [
        "# Plot conservation areas as choropleth by park type\n",
        "conserve.plot(column = \"DESIG_ENG\", cmap = \"Paired\")"
      ],
      "execution_count": 94,
      "outputs": [
        {
          "output_type": "execute_result",
          "data": {
            "text/plain": [
              "<matplotlib.axes._subplots.AxesSubplot at 0x7f12ac9b90f0>"
            ]
          },
          "metadata": {
            "tags": []
          },
          "execution_count": 94
        },
        {
          "output_type": "display_data",
          "data": {
            "image/png": "[encoded data removed]",
            "text/plain": [
              "<matplotlib.figure.Figure at 0x7f12ac9912b0>"
            ]
          },
          "metadata": {
            "tags": []
          }
        }
      ]
    },
    {
      "metadata": {
        "id": "Xp_SmEIqqd7i",
        "colab_type": "code",
        "colab": {
          "base_uri": "https://localhost:8080/",
          "height": 365
        },
        "outputId": "dd412082-45ab-4062-8c0e-0a20290f848b"
      },
      "cell_type": "code",
      "source": [
        "# Make it red! Color palettes: https://matplotlib.org/users/colormaps.html\n",
        "conserve.plot(column = \"DESIG_ENG\", cmap = \"hot\")"
      ],
      "execution_count": 95,
      "outputs": [
        {
          "output_type": "execute_result",
          "data": {
            "text/plain": [
              "<matplotlib.axes._subplots.AxesSubplot at 0x7f12ac94a6d8>"
            ]
          },
          "metadata": {
            "tags": []
          },
          "execution_count": 95
        },
        {
          "output_type": "display_data",
          "data": {
            "image/png": "[encoded data removed]",
            "text/plain": [
              "<matplotlib.figure.Figure at 0x7f12ac99c940>"
            ]
          },
          "metadata": {
            "tags": []
          }
        }
      ]
    },
    {
      "metadata": {
        "id": "bjF6X5gnqj_Z",
        "colab_type": "code",
        "colab": {
          "base_uri": "https://localhost:8080/",
          "height": 365
        },
        "outputId": "6168aba4-110c-40af-f964-ef5305bc3b44"
      },
      "cell_type": "code",
      "source": [
        "# Plot conservation areas where the area has a Use Management Plan.\n",
        "conserve[conserve['MANG_PLAN'] != \"No\"].plot()"
      ],
      "execution_count": 96,
      "outputs": [
        {
          "output_type": "execute_result",
          "data": {
            "text/plain": [
              "<matplotlib.axes._subplots.AxesSubplot at 0x7f12ac899e10>"
            ]
          },
          "metadata": {
            "tags": []
          },
          "execution_count": 96
        },
        {
          "output_type": "display_data",
          "data": {
            "image/png": "[encoded data removed]",
            "text/plain": [
              "<matplotlib.figure.Figure at 0x7f12ac82d668>"
            ]
          },
          "metadata": {
            "tags": []
          }
        }
      ]
    },
    {
      "metadata": {
        "id": "afRnOMdpqxPL",
        "colab_type": "code",
        "colab": {
          "base_uri": "https://localhost:8080/",
          "height": 365
        },
        "outputId": "e8922c90-b484-4500-ee9d-b48f3e5d6f97"
      },
      "cell_type": "code",
      "source": [
        "# Plot conservation areas as a choropleth by the \"MARINE\" attribute\n",
        "conserve.plot(column = \"MARINE\")"
      ],
      "execution_count": 97,
      "outputs": [
        {
          "output_type": "execute_result",
          "data": {
            "text/plain": [
              "<matplotlib.axes._subplots.AxesSubplot at 0x7f12ac808470>"
            ]
          },
          "metadata": {
            "tags": []
          },
          "execution_count": 97
        },
        {
          "output_type": "display_data",
          "data": {
            "image/png": "[encoded data removed]",
            "text/plain": [
              "<matplotlib.figure.Figure at 0x7f12ac8c62b0>"
            ]
          },
          "metadata": {
            "tags": []
          }
        }
      ]
    },
    {
      "metadata": {
        "id": "Sl0jy-c3qzDf",
        "colab_type": "code",
        "colab": {
          "base_uri": "https://localhost:8080/",
          "height": 365
        },
        "outputId": "e8f44ca7-9980-4f7a-9e36-256949603854"
      },
      "cell_type": "code",
      "source": [
        "# Make it blue (obviously)! https://matplotlib.org/users/colormaps.html\n",
        "conserve.plot(column = 'MARINE', cmap=\"Blues\")"
      ],
      "execution_count": 98,
      "outputs": [
        {
          "output_type": "execute_result",
          "data": {
            "text/plain": [
              "<matplotlib.axes._subplots.AxesSubplot at 0x7f12ac78f748>"
            ]
          },
          "metadata": {
            "tags": []
          },
          "execution_count": 98
        },
        {
          "output_type": "display_data",
          "data": {
            "image/png": "[encoded data removed]",
            "text/plain": [
              "<matplotlib.figure.Figure at 0x7f12ac774908>"
            ]
          },
          "metadata": {
            "tags": []
          }
        }
      ]
    },
    {
      "metadata": {
        "id": "e3HHFujjrAIw",
        "colab_type": "code",
        "colab": {
          "base_uri": "https://localhost:8080/",
          "height": 395
        },
        "outputId": "f70c5eb9-1d91-43ab-d0fe-1ea2a99d67bc"
      },
      "cell_type": "code",
      "source": [
        "# Take a look at our first few lines of data\n",
        "conserve.head(3)"
      ],
      "execution_count": 99,
      "outputs": [
        {
          "output_type": "execute_result",
          "data": {
            "text/html": [
              "<div>\n",
              "<style scoped>\n",
              "    .dataframe tbody tr th:only-of-type {\n",
              "        vertical-align: middle;\n",
              "    }\n",
              "\n",
              "    .dataframe tbody tr th {\n",
              "        vertical-align: top;\n",
              "    }\n",
              "\n",
              "    .dataframe thead th {\n",
              "        text-align: right;\n",
              "    }\n",
              "</style>\n",
              "<table border=\"1\" class=\"dataframe\">\n",
              "  <thead>\n",
              "    <tr style=\"text-align: right;\">\n",
              "      <th></th>\n",
              "      <th>WDPAID</th>\n",
              "      <th>WDPA_PID</th>\n",
              "      <th>PA_DEF</th>\n",
              "      <th>NAME</th>\n",
              "      <th>ORIG_NAME</th>\n",
              "      <th>DESIG</th>\n",
              "      <th>DESIG_ENG</th>\n",
              "      <th>DESIG_TYPE</th>\n",
              "      <th>IUCN_CAT</th>\n",
              "      <th>INT_CRIT</th>\n",
              "      <th>...</th>\n",
              "      <th>GOV_TYPE</th>\n",
              "      <th>OWN_TYPE</th>\n",
              "      <th>MANG_AUTH</th>\n",
              "      <th>MANG_PLAN</th>\n",
              "      <th>VERIF</th>\n",
              "      <th>METADATAID</th>\n",
              "      <th>SUB_LOC</th>\n",
              "      <th>PARENT_ISO</th>\n",
              "      <th>ISO3</th>\n",
              "      <th>geometry</th>\n",
              "    </tr>\n",
              "  </thead>\n",
              "  <tbody>\n",
              "    <tr>\n",
              "      <th>0</th>\n",
              "      <td>555624222.0</td>\n",
              "      <td>555624222</td>\n",
              "      <td>1</td>\n",
              "      <td>La Caleta</td>\n",
              "      <td>La Caleta</td>\n",
              "      <td>Specially Protected Area (Cartagena Convention)</td>\n",
              "      <td>Specially Protected Area (Cartagena Convention)</td>\n",
              "      <td>Regional</td>\n",
              "      <td>II</td>\n",
              "      <td>Not Applicable</td>\n",
              "      <td>...</td>\n",
              "      <td>Federal or national ministry or agency</td>\n",
              "      <td>Not Reported</td>\n",
              "      <td>Secretaria de Estado de Medio Ambiente y Recur...</td>\n",
              "      <td>http://www.spaw-palisting.org/area_public/show...</td>\n",
              "      <td>State Verified</td>\n",
              "      <td>1900</td>\n",
              "      <td>Marine</td>\n",
              "      <td>DOM</td>\n",
              "      <td>DOM</td>\n",
              "      <td>POLYGON ((-69.70475633263862 18.45382580331824...</td>\n",
              "    </tr>\n",
              "    <tr>\n",
              "      <th>1</th>\n",
              "      <td>555624132.0</td>\n",
              "      <td>555624132</td>\n",
              "      <td>1</td>\n",
              "      <td>Humedales de Jaragua</td>\n",
              "      <td>Humedales de Jaragua</td>\n",
              "      <td>Ramsar Site, Wetland of International Importance</td>\n",
              "      <td>Ramsar Site, Wetland of International Importance</td>\n",
              "      <td>International</td>\n",
              "      <td>Not Reported</td>\n",
              "      <td>(ii) (iv) (vii) (viii)</td>\n",
              "      <td>...</td>\n",
              "      <td>Not Reported</td>\n",
              "      <td>Not Reported</td>\n",
              "      <td>Not Reported</td>\n",
              "      <td>https://rsis.ramsar.org/ris/2210</td>\n",
              "      <td>State Verified</td>\n",
              "      <td>1856</td>\n",
              "      <td>Not Reported</td>\n",
              "      <td>DOM</td>\n",
              "      <td>DOM</td>\n",
              "      <td>(POLYGON ((-71.53151544068498 17.7571400007105...</td>\n",
              "    </tr>\n",
              "    <tr>\n",
              "      <th>2</th>\n",
              "      <td>555624219.0</td>\n",
              "      <td>555624219</td>\n",
              "      <td>1</td>\n",
              "      <td>Los Haitises</td>\n",
              "      <td>Los Haitises</td>\n",
              "      <td>Specially Protected Area (Cartagena Convention)</td>\n",
              "      <td>Specially Protected Area (Cartagena Convention)</td>\n",
              "      <td>Regional</td>\n",
              "      <td>II</td>\n",
              "      <td>Not Applicable</td>\n",
              "      <td>...</td>\n",
              "      <td>Federal or national ministry or agency</td>\n",
              "      <td>Not Reported</td>\n",
              "      <td>Secretaria de Estado de Medio Ambiente y Recur...</td>\n",
              "      <td>http://www.spaw-palisting.org/area_public/show...</td>\n",
              "      <td>State Verified</td>\n",
              "      <td>1900</td>\n",
              "      <td>Marine</td>\n",
              "      <td>DOM</td>\n",
              "      <td>DOM</td>\n",
              "      <td>(POLYGON ((-69.87710541868012 19.1207403670743...</td>\n",
              "    </tr>\n",
              "  </tbody>\n",
              "</table>\n",
              "<p>3 rows × 29 columns</p>\n",
              "</div>"
            ],
            "text/plain": [
              "        WDPAID   WDPA_PID PA_DEF                  NAME             ORIG_NAME  \\\n",
              "0  555624222.0  555624222      1             La Caleta             La Caleta   \n",
              "1  555624132.0  555624132      1  Humedales de Jaragua  Humedales de Jaragua   \n",
              "2  555624219.0  555624219      1          Los Haitises          Los Haitises   \n",
              "\n",
              "                                              DESIG  \\\n",
              "0   Specially Protected Area (Cartagena Convention)   \n",
              "1  Ramsar Site, Wetland of International Importance   \n",
              "2   Specially Protected Area (Cartagena Convention)   \n",
              "\n",
              "                                          DESIG_ENG     DESIG_TYPE  \\\n",
              "0   Specially Protected Area (Cartagena Convention)       Regional   \n",
              "1  Ramsar Site, Wetland of International Importance  International   \n",
              "2   Specially Protected Area (Cartagena Convention)       Regional   \n",
              "\n",
              "       IUCN_CAT                INT_CRIT  \\\n",
              "0            II          Not Applicable   \n",
              "1  Not Reported  (ii) (iv) (vii) (viii)   \n",
              "2            II          Not Applicable   \n",
              "\n",
              "                         ...                          \\\n",
              "0                        ...                           \n",
              "1                        ...                           \n",
              "2                        ...                           \n",
              "\n",
              "                                 GOV_TYPE      OWN_TYPE  \\\n",
              "0  Federal or national ministry or agency  Not Reported   \n",
              "1                            Not Reported  Not Reported   \n",
              "2  Federal or national ministry or agency  Not Reported   \n",
              "\n",
              "                                           MANG_AUTH  \\\n",
              "0  Secretaria de Estado de Medio Ambiente y Recur...   \n",
              "1                                       Not Reported   \n",
              "2  Secretaria de Estado de Medio Ambiente y Recur...   \n",
              "\n",
              "                                           MANG_PLAN           VERIF  \\\n",
              "0  http://www.spaw-palisting.org/area_public/show...  State Verified   \n",
              "1                   https://rsis.ramsar.org/ris/2210  State Verified   \n",
              "2  http://www.spaw-palisting.org/area_public/show...  State Verified   \n",
              "\n",
              "  METADATAID       SUB_LOC PARENT_ISO  ISO3  \\\n",
              "0       1900        Marine        DOM   DOM   \n",
              "1       1856  Not Reported        DOM   DOM   \n",
              "2       1900        Marine        DOM   DOM   \n",
              "\n",
              "                                            geometry  \n",
              "0  POLYGON ((-69.70475633263862 18.45382580331824...  \n",
              "1  (POLYGON ((-71.53151544068498 17.7571400007105...  \n",
              "2  (POLYGON ((-69.87710541868012 19.1207403670743...  \n",
              "\n",
              "[3 rows x 29 columns]"
            ]
          },
          "metadata": {
            "tags": []
          },
          "execution_count": 99
        }
      ]
    },
    {
      "metadata": {
        "id": "U4BWnfhtsAyX",
        "colab_type": "code",
        "colab": {
          "base_uri": "https://localhost:8080/",
          "height": 122
        },
        "outputId": "34827566-a555-477b-a946-2ec597c47c7f"
      },
      "cell_type": "code",
      "source": [
        "# Call your geometry attribute and find its Shapely geometry type\n",
        "conserve.geometry.head()"
      ],
      "execution_count": 103,
      "outputs": [
        {
          "output_type": "execute_result",
          "data": {
            "text/plain": [
              "0    POLYGON ((-69.70475633263862 18.45382580331824...\n",
              "1    (POLYGON ((-71.53151544068498 17.7571400007105...\n",
              "2    (POLYGON ((-69.87710541868012 19.1207403670743...\n",
              "3    POLYGON ((-71.6339539899846 18.07129016161173,...\n",
              "4    POLYGON ((-71.49641143973611 17.93031775625951...\n",
              "Name: geometry, dtype: object"
            ]
          },
          "metadata": {
            "tags": []
          },
          "execution_count": 103
        }
      ]
    }
  ]
}